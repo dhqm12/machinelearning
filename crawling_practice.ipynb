{
  "nbformat": 4,
  "nbformat_minor": 5,
  "metadata": {
    "kernelspec": {
      "display_name": "Python 3 (ipykernel)",
      "language": "python",
      "name": "python3"
    },
    "language_info": {
      "codemirror_mode": {
        "name": "ipython",
        "version": 3
      },
      "file_extension": ".py",
      "mimetype": "text/x-python",
      "name": "python",
      "nbconvert_exporter": "python",
      "pygments_lexer": "ipython3",
      "version": "3.9.7"
    },
    "colab": {
      "name": "crawling_practice.ipynb",
      "provenance": [],
      "include_colab_link": true
    }
  },
  "cells": [
    {
      "cell_type": "markdown",
      "metadata": {
        "id": "view-in-github",
        "colab_type": "text"
      },
      "source": [
        "<a href=\"https://colab.research.google.com/github/dhqm12/machinelearning/blob/main/crawling_practice.ipynb\" target=\"_parent\"><img src=\"https://colab.research.google.com/assets/colab-badge.svg\" alt=\"Open In Colab\"/></a>"
      ]
    },
    {
      "cell_type": "code",
      "metadata": {
        "id": "72acf4c7"
      },
      "source": [
        "import requests\n",
        "import pandas as pd"
      ],
      "id": "72acf4c7",
      "execution_count": null,
      "outputs": []
    },
    {
      "cell_type": "code",
      "metadata": {
        "id": "f71da869",
        "outputId": "8eae43f0-e6fc-48ee-9453-33d89a7ceb92"
      },
      "source": [
        "#웹서비스 분석: url찾기\n",
        "page_size, page = 10, 1\n",
        "\n",
        "url =  'https://m.stock.naver.com/api/index/KOSPI/price?pageSize={}&page={}'.format(page_size, page)\n",
        "\n",
        "\n",
        "print(url)"
      ],
      "id": "f71da869",
      "execution_count": null,
      "outputs": [
        {
          "name": "stdout",
          "output_type": "stream",
          "text": [
            "https://m.stock.naver.com/api/index/KOSPI/price?pageSize=10&page=1\n"
          ]
        }
      ]
    },
    {
      "cell_type": "code",
      "metadata": {
        "id": "6f62cdab"
      },
      "source": [
        "#2. request, response: Jason"
      ],
      "id": "6f62cdab",
      "execution_count": null,
      "outputs": []
    },
    {
      "cell_type": "code",
      "metadata": {
        "id": "072bea01",
        "outputId": "38fa0e0a-b632-4a5c-c9b9-800dbf462ce2"
      },
      "source": [
        "response =requests.get(url)\n",
        "response"
      ],
      "id": "072bea01",
      "execution_count": null,
      "outputs": [
        {
          "data": {
            "text/plain": [
              "<Response [200]>"
            ]
          },
          "execution_count": 4,
          "metadata": {},
          "output_type": "execute_result"
        }
      ]
    },
    {
      "cell_type": "code",
      "metadata": {
        "id": "900c0e5c",
        "outputId": "b89ff2dd-c592-4833-c8e1-8919c5593c65"
      },
      "source": [
        "type(response.text)\n",
        "\n"
      ],
      "id": "900c0e5c",
      "execution_count": null,
      "outputs": [
        {
          "data": {
            "text/plain": [
              "str"
            ]
          },
          "execution_count": 5,
          "metadata": {},
          "output_type": "execute_result"
        }
      ]
    },
    {
      "cell_type": "code",
      "metadata": {
        "id": "1b650fcd"
      },
      "source": [
        "data = response.json() #딕셔너리 데이터로 파싱\n"
      ],
      "id": "1b650fcd",
      "execution_count": null,
      "outputs": []
    },
    {
      "cell_type": "code",
      "metadata": {
        "id": "67368e1a"
      },
      "source": [
        "kospi_df = pd.DataFrame(data)\n"
      ],
      "id": "67368e1a",
      "execution_count": null,
      "outputs": []
    },
    {
      "cell_type": "code",
      "metadata": {
        "id": "cddb5f6d"
      },
      "source": [
        "kospi_df.set_index('localTradedAt', inplace =True)#인덱스 설정은 set_index\n"
      ],
      "id": "cddb5f6d",
      "execution_count": null,
      "outputs": []
    },
    {
      "cell_type": "code",
      "metadata": {
        "id": "8c5c9a01",
        "outputId": "bb87cb4e-8ad0-4e4c-93fd-d09d5c6d24b4"
      },
      "source": [
        "kospi_df\n",
        "\n"
      ],
      "id": "8c5c9a01",
      "execution_count": null,
      "outputs": [
        {
          "data": {
            "text/html": [
              "<div>\n",
              "<style scoped>\n",
              "    .dataframe tbody tr th:only-of-type {\n",
              "        vertical-align: middle;\n",
              "    }\n",
              "\n",
              "    .dataframe tbody tr th {\n",
              "        vertical-align: top;\n",
              "    }\n",
              "\n",
              "    .dataframe thead th {\n",
              "        text-align: right;\n",
              "    }\n",
              "</style>\n",
              "<table border=\"1\" class=\"dataframe\">\n",
              "  <thead>\n",
              "    <tr style=\"text-align: right;\">\n",
              "      <th></th>\n",
              "      <th>closePrice</th>\n",
              "      <th>compareToPreviousClosePrice</th>\n",
              "      <th>compareToPreviousPrice</th>\n",
              "      <th>fluctuationsRatio</th>\n",
              "      <th>openPrice</th>\n",
              "      <th>highPrice</th>\n",
              "      <th>lowPrice</th>\n",
              "    </tr>\n",
              "    <tr>\n",
              "      <th>localTradedAt</th>\n",
              "      <th></th>\n",
              "      <th></th>\n",
              "      <th></th>\n",
              "      <th></th>\n",
              "      <th></th>\n",
              "      <th></th>\n",
              "      <th></th>\n",
              "    </tr>\n",
              "  </thead>\n",
              "  <tbody>\n",
              "    <tr>\n",
              "      <th>2021-10-08</th>\n",
              "      <td>2,956.30</td>\n",
              "      <td>-3.16</td>\n",
              "      <td>{'code': '5', 'text': '하락', 'name': 'FALLING'}</td>\n",
              "      <td>-0.11</td>\n",
              "      <td>2,977.82</td>\n",
              "      <td>2,978.08</td>\n",
              "      <td>2,949.01</td>\n",
              "    </tr>\n",
              "    <tr>\n",
              "      <th>2021-10-07</th>\n",
              "      <td>2,959.46</td>\n",
              "      <td>51.15</td>\n",
              "      <td>{'code': '2', 'text': '상승', 'name': 'RISING'}</td>\n",
              "      <td>1.76</td>\n",
              "      <td>2,936.87</td>\n",
              "      <td>2,961.53</td>\n",
              "      <td>2,927.60</td>\n",
              "    </tr>\n",
              "    <tr>\n",
              "      <th>2021-10-06</th>\n",
              "      <td>2,908.31</td>\n",
              "      <td>-53.86</td>\n",
              "      <td>{'code': '5', 'text': '하락', 'name': 'FALLING'}</td>\n",
              "      <td>-1.82</td>\n",
              "      <td>2,986.06</td>\n",
              "      <td>2,993.47</td>\n",
              "      <td>2,908.30</td>\n",
              "    </tr>\n",
              "    <tr>\n",
              "      <th>2021-10-05</th>\n",
              "      <td>2,962.17</td>\n",
              "      <td>-57.01</td>\n",
              "      <td>{'code': '5', 'text': '하락', 'name': 'FALLING'}</td>\n",
              "      <td>-1.89</td>\n",
              "      <td>2,998.17</td>\n",
              "      <td>2,998.17</td>\n",
              "      <td>2,940.59</td>\n",
              "    </tr>\n",
              "    <tr>\n",
              "      <th>2021-10-01</th>\n",
              "      <td>3,019.18</td>\n",
              "      <td>-49.64</td>\n",
              "      <td>{'code': '5', 'text': '하락', 'name': 'FALLING'}</td>\n",
              "      <td>-1.62</td>\n",
              "      <td>3,056.21</td>\n",
              "      <td>3,062.60</td>\n",
              "      <td>3,015.01</td>\n",
              "    </tr>\n",
              "    <tr>\n",
              "      <th>2021-09-30</th>\n",
              "      <td>3,068.82</td>\n",
              "      <td>8.55</td>\n",
              "      <td>{'code': '2', 'text': '상승', 'name': 'RISING'}</td>\n",
              "      <td>0.28</td>\n",
              "      <td>3,054.87</td>\n",
              "      <td>3,079.43</td>\n",
              "      <td>3,046.43</td>\n",
              "    </tr>\n",
              "    <tr>\n",
              "      <th>2021-09-29</th>\n",
              "      <td>3,060.27</td>\n",
              "      <td>-37.65</td>\n",
              "      <td>{'code': '5', 'text': '하락', 'name': 'FALLING'}</td>\n",
              "      <td>-1.22</td>\n",
              "      <td>3,055.50</td>\n",
              "      <td>3,069.04</td>\n",
              "      <td>3,030.60</td>\n",
              "    </tr>\n",
              "    <tr>\n",
              "      <th>2021-09-28</th>\n",
              "      <td>3,097.92</td>\n",
              "      <td>-35.72</td>\n",
              "      <td>{'code': '5', 'text': '하락', 'name': 'FALLING'}</td>\n",
              "      <td>-1.14</td>\n",
              "      <td>3,133.40</td>\n",
              "      <td>3,134.46</td>\n",
              "      <td>3,095.72</td>\n",
              "    </tr>\n",
              "    <tr>\n",
              "      <th>2021-09-27</th>\n",
              "      <td>3,133.64</td>\n",
              "      <td>8.40</td>\n",
              "      <td>{'code': '2', 'text': '상승', 'name': 'RISING'}</td>\n",
              "      <td>0.27</td>\n",
              "      <td>3,121.70</td>\n",
              "      <td>3,146.35</td>\n",
              "      <td>3,119.26</td>\n",
              "    </tr>\n",
              "    <tr>\n",
              "      <th>2021-09-24</th>\n",
              "      <td>3,125.24</td>\n",
              "      <td>-2.34</td>\n",
              "      <td>{'code': '5', 'text': '하락', 'name': 'FALLING'}</td>\n",
              "      <td>-0.07</td>\n",
              "      <td>3,140.73</td>\n",
              "      <td>3,146.86</td>\n",
              "      <td>3,119.40</td>\n",
              "    </tr>\n",
              "  </tbody>\n",
              "</table>\n",
              "</div>"
            ],
            "text/plain": [
              "              closePrice compareToPreviousClosePrice  \\\n",
              "localTradedAt                                          \n",
              "2021-10-08      2,956.30                       -3.16   \n",
              "2021-10-07      2,959.46                       51.15   \n",
              "2021-10-06      2,908.31                      -53.86   \n",
              "2021-10-05      2,962.17                      -57.01   \n",
              "2021-10-01      3,019.18                      -49.64   \n",
              "2021-09-30      3,068.82                        8.55   \n",
              "2021-09-29      3,060.27                      -37.65   \n",
              "2021-09-28      3,097.92                      -35.72   \n",
              "2021-09-27      3,133.64                        8.40   \n",
              "2021-09-24      3,125.24                       -2.34   \n",
              "\n",
              "                                       compareToPreviousPrice  \\\n",
              "localTradedAt                                                   \n",
              "2021-10-08     {'code': '5', 'text': '하락', 'name': 'FALLING'}   \n",
              "2021-10-07      {'code': '2', 'text': '상승', 'name': 'RISING'}   \n",
              "2021-10-06     {'code': '5', 'text': '하락', 'name': 'FALLING'}   \n",
              "2021-10-05     {'code': '5', 'text': '하락', 'name': 'FALLING'}   \n",
              "2021-10-01     {'code': '5', 'text': '하락', 'name': 'FALLING'}   \n",
              "2021-09-30      {'code': '2', 'text': '상승', 'name': 'RISING'}   \n",
              "2021-09-29     {'code': '5', 'text': '하락', 'name': 'FALLING'}   \n",
              "2021-09-28     {'code': '5', 'text': '하락', 'name': 'FALLING'}   \n",
              "2021-09-27      {'code': '2', 'text': '상승', 'name': 'RISING'}   \n",
              "2021-09-24     {'code': '5', 'text': '하락', 'name': 'FALLING'}   \n",
              "\n",
              "              fluctuationsRatio openPrice highPrice  lowPrice  \n",
              "localTradedAt                                                  \n",
              "2021-10-08                -0.11  2,977.82  2,978.08  2,949.01  \n",
              "2021-10-07                 1.76  2,936.87  2,961.53  2,927.60  \n",
              "2021-10-06                -1.82  2,986.06  2,993.47  2,908.30  \n",
              "2021-10-05                -1.89  2,998.17  2,998.17  2,940.59  \n",
              "2021-10-01                -1.62  3,056.21  3,062.60  3,015.01  \n",
              "2021-09-30                 0.28  3,054.87  3,079.43  3,046.43  \n",
              "2021-09-29                -1.22  3,055.50  3,069.04  3,030.60  \n",
              "2021-09-28                -1.14  3,133.40  3,134.46  3,095.72  \n",
              "2021-09-27                 0.27  3,121.70  3,146.35  3,119.26  \n",
              "2021-09-24                -0.07  3,140.73  3,146.86  3,119.40  "
            ]
          },
          "execution_count": 9,
          "metadata": {},
          "output_type": "execute_result"
        }
      ]
    },
    {
      "cell_type": "code",
      "metadata": {
        "id": "ad8566ac"
      },
      "source": [
        "#함수만들기\n",
        "\n",
        "def get_stock_data(code, page_size=20 , page=1):\n",
        "    url =  'https://m.stock.naver.com/api/index/{}/price?pageSize={}&page={}'.format(code, page_size, page)\n",
        "    response = requests.get(url)\n",
        "    datas = response.json()\n",
        "    return pd.DataFrame(datas)\n",
        "\n"
      ],
      "id": "ad8566ac",
      "execution_count": null,
      "outputs": []
    },
    {
      "cell_type": "code",
      "metadata": {
        "id": "5dd03d55",
        "outputId": "58f3cedd-74b3-4a28-c5e6-2ad262bd4fbe"
      },
      "source": [
        "kospii_df =get_stock_data('KOSPI', 60)\n",
        "kospii_df.tail(2)"
      ],
      "id": "5dd03d55",
      "execution_count": null,
      "outputs": [
        {
          "data": {
            "text/html": [
              "<div>\n",
              "<style scoped>\n",
              "    .dataframe tbody tr th:only-of-type {\n",
              "        vertical-align: middle;\n",
              "    }\n",
              "\n",
              "    .dataframe tbody tr th {\n",
              "        vertical-align: top;\n",
              "    }\n",
              "\n",
              "    .dataframe thead th {\n",
              "        text-align: right;\n",
              "    }\n",
              "</style>\n",
              "<table border=\"1\" class=\"dataframe\">\n",
              "  <thead>\n",
              "    <tr style=\"text-align: right;\">\n",
              "      <th></th>\n",
              "      <th>localTradedAt</th>\n",
              "      <th>closePrice</th>\n",
              "      <th>compareToPreviousClosePrice</th>\n",
              "      <th>compareToPreviousPrice</th>\n",
              "      <th>fluctuationsRatio</th>\n",
              "      <th>openPrice</th>\n",
              "      <th>highPrice</th>\n",
              "      <th>lowPrice</th>\n",
              "    </tr>\n",
              "  </thead>\n",
              "  <tbody>\n",
              "    <tr>\n",
              "      <th>58</th>\n",
              "      <td>2021-07-13</td>\n",
              "      <td>3,271.38</td>\n",
              "      <td>24.91</td>\n",
              "      <td>{'code': '2', 'text': '상승', 'name': 'RISING'}</td>\n",
              "      <td>0.77</td>\n",
              "      <td>3,253.24</td>\n",
              "      <td>3,273.90</td>\n",
              "      <td>3,253.24</td>\n",
              "    </tr>\n",
              "    <tr>\n",
              "      <th>59</th>\n",
              "      <td>2021-07-12</td>\n",
              "      <td>3,246.47</td>\n",
              "      <td>28.52</td>\n",
              "      <td>{'code': '2', 'text': '상승', 'name': 'RISING'}</td>\n",
              "      <td>0.89</td>\n",
              "      <td>3,227.51</td>\n",
              "      <td>3,251.45</td>\n",
              "      <td>3,227.51</td>\n",
              "    </tr>\n",
              "  </tbody>\n",
              "</table>\n",
              "</div>"
            ],
            "text/plain": [
              "   localTradedAt closePrice compareToPreviousClosePrice  \\\n",
              "58    2021-07-13   3,271.38                       24.91   \n",
              "59    2021-07-12   3,246.47                       28.52   \n",
              "\n",
              "                           compareToPreviousPrice fluctuationsRatio openPrice  \\\n",
              "58  {'code': '2', 'text': '상승', 'name': 'RISING'}              0.77  3,253.24   \n",
              "59  {'code': '2', 'text': '상승', 'name': 'RISING'}              0.89  3,227.51   \n",
              "\n",
              "   highPrice  lowPrice  \n",
              "58  3,273.90  3,253.24  \n",
              "59  3,251.45  3,227.51  "
            ]
          },
          "execution_count": 11,
          "metadata": {},
          "output_type": "execute_result"
        }
      ]
    },
    {
      "cell_type": "code",
      "metadata": {
        "id": "012c4ec4"
      },
      "source": [
        "kosdaq_df = get_stock_data('KOSDAQ', 60)"
      ],
      "id": "012c4ec4",
      "execution_count": null,
      "outputs": []
    },
    {
      "cell_type": "markdown",
      "metadata": {
        "id": "bd58ca42"
      },
      "source": [
        "<h1>환율"
      ],
      "id": "bd58ca42"
    },
    {
      "cell_type": "code",
      "metadata": {
        "id": "a4ec8268",
        "outputId": "3db43c37-7ebb-4046-ca89-b734f0c88ff9"
      },
      "source": [
        "#1웹페이지분석\n",
        "page_size, page = 60, 1 \n",
        "url ='https://api.stock.naver.com/marketindex/exchange/FX_USDKRW/prices?page={}&pageSize={}'.format(page_size, page)\n",
        "print(url)"
      ],
      "id": "a4ec8268",
      "execution_count": null,
      "outputs": [
        {
          "name": "stdout",
          "output_type": "stream",
          "text": [
            "https://api.stock.naver.com/marketindex/exchange/FX_USDKRW/prices?page=60&pageSize=1\n"
          ]
        }
      ]
    },
    {
      "cell_type": "code",
      "metadata": {
        "id": "cd326a26"
      },
      "source": [
        "#requests, responds:Jason"
      ],
      "id": "cd326a26",
      "execution_count": null,
      "outputs": []
    },
    {
      "cell_type": "code",
      "metadata": {
        "id": "cb1c2c61",
        "outputId": "ea4f2588-bd3e-4a62-d3b1-199e70aa572f"
      },
      "source": [
        "requests.get(url)"
      ],
      "id": "cb1c2c61",
      "execution_count": null,
      "outputs": [
        {
          "data": {
            "text/plain": [
              "<Response [200]>"
            ]
          },
          "execution_count": 15,
          "metadata": {},
          "output_type": "execute_result"
        }
      ]
    },
    {
      "cell_type": "code",
      "metadata": {
        "id": "f9ea7f22"
      },
      "source": [
        "data1 = response.json()"
      ],
      "id": "f9ea7f22",
      "execution_count": null,
      "outputs": []
    },
    {
      "cell_type": "code",
      "metadata": {
        "id": "15906e55"
      },
      "source": [
        ""
      ],
      "id": "15906e55",
      "execution_count": null,
      "outputs": []
    },
    {
      "cell_type": "code",
      "metadata": {
        "id": "d6859a91"
      },
      "source": [
        "krw_df =pd.DataFrame(data1)"
      ],
      "id": "d6859a91",
      "execution_count": null,
      "outputs": []
    },
    {
      "cell_type": "code",
      "metadata": {
        "id": "44c57080",
        "outputId": "67551bb2-4e2e-4ab9-db87-fa7e1ba7f186"
      },
      "source": [
        "krw_df.set_index('localTradedAt')"
      ],
      "id": "44c57080",
      "execution_count": null,
      "outputs": [
        {
          "data": {
            "text/html": [
              "<div>\n",
              "<style scoped>\n",
              "    .dataframe tbody tr th:only-of-type {\n",
              "        vertical-align: middle;\n",
              "    }\n",
              "\n",
              "    .dataframe tbody tr th {\n",
              "        vertical-align: top;\n",
              "    }\n",
              "\n",
              "    .dataframe thead th {\n",
              "        text-align: right;\n",
              "    }\n",
              "</style>\n",
              "<table border=\"1\" class=\"dataframe\">\n",
              "  <thead>\n",
              "    <tr style=\"text-align: right;\">\n",
              "      <th></th>\n",
              "      <th>closePrice</th>\n",
              "      <th>compareToPreviousClosePrice</th>\n",
              "      <th>compareToPreviousPrice</th>\n",
              "      <th>fluctuationsRatio</th>\n",
              "      <th>openPrice</th>\n",
              "      <th>highPrice</th>\n",
              "      <th>lowPrice</th>\n",
              "    </tr>\n",
              "    <tr>\n",
              "      <th>localTradedAt</th>\n",
              "      <th></th>\n",
              "      <th></th>\n",
              "      <th></th>\n",
              "      <th></th>\n",
              "      <th></th>\n",
              "      <th></th>\n",
              "      <th></th>\n",
              "    </tr>\n",
              "  </thead>\n",
              "  <tbody>\n",
              "    <tr>\n",
              "      <th>2021-10-08</th>\n",
              "      <td>2,956.30</td>\n",
              "      <td>-3.16</td>\n",
              "      <td>{'code': '5', 'text': '하락', 'name': 'FALLING'}</td>\n",
              "      <td>-0.11</td>\n",
              "      <td>2,977.82</td>\n",
              "      <td>2,978.08</td>\n",
              "      <td>2,949.01</td>\n",
              "    </tr>\n",
              "    <tr>\n",
              "      <th>2021-10-07</th>\n",
              "      <td>2,959.46</td>\n",
              "      <td>51.15</td>\n",
              "      <td>{'code': '2', 'text': '상승', 'name': 'RISING'}</td>\n",
              "      <td>1.76</td>\n",
              "      <td>2,936.87</td>\n",
              "      <td>2,961.53</td>\n",
              "      <td>2,927.60</td>\n",
              "    </tr>\n",
              "    <tr>\n",
              "      <th>2021-10-06</th>\n",
              "      <td>2,908.31</td>\n",
              "      <td>-53.86</td>\n",
              "      <td>{'code': '5', 'text': '하락', 'name': 'FALLING'}</td>\n",
              "      <td>-1.82</td>\n",
              "      <td>2,986.06</td>\n",
              "      <td>2,993.47</td>\n",
              "      <td>2,908.30</td>\n",
              "    </tr>\n",
              "    <tr>\n",
              "      <th>2021-10-05</th>\n",
              "      <td>2,962.17</td>\n",
              "      <td>-57.01</td>\n",
              "      <td>{'code': '5', 'text': '하락', 'name': 'FALLING'}</td>\n",
              "      <td>-1.89</td>\n",
              "      <td>2,998.17</td>\n",
              "      <td>2,998.17</td>\n",
              "      <td>2,940.59</td>\n",
              "    </tr>\n",
              "    <tr>\n",
              "      <th>2021-10-01</th>\n",
              "      <td>3,019.18</td>\n",
              "      <td>-49.64</td>\n",
              "      <td>{'code': '5', 'text': '하락', 'name': 'FALLING'}</td>\n",
              "      <td>-1.62</td>\n",
              "      <td>3,056.21</td>\n",
              "      <td>3,062.60</td>\n",
              "      <td>3,015.01</td>\n",
              "    </tr>\n",
              "    <tr>\n",
              "      <th>2021-09-30</th>\n",
              "      <td>3,068.82</td>\n",
              "      <td>8.55</td>\n",
              "      <td>{'code': '2', 'text': '상승', 'name': 'RISING'}</td>\n",
              "      <td>0.28</td>\n",
              "      <td>3,054.87</td>\n",
              "      <td>3,079.43</td>\n",
              "      <td>3,046.43</td>\n",
              "    </tr>\n",
              "    <tr>\n",
              "      <th>2021-09-29</th>\n",
              "      <td>3,060.27</td>\n",
              "      <td>-37.65</td>\n",
              "      <td>{'code': '5', 'text': '하락', 'name': 'FALLING'}</td>\n",
              "      <td>-1.22</td>\n",
              "      <td>3,055.50</td>\n",
              "      <td>3,069.04</td>\n",
              "      <td>3,030.60</td>\n",
              "    </tr>\n",
              "    <tr>\n",
              "      <th>2021-09-28</th>\n",
              "      <td>3,097.92</td>\n",
              "      <td>-35.72</td>\n",
              "      <td>{'code': '5', 'text': '하락', 'name': 'FALLING'}</td>\n",
              "      <td>-1.14</td>\n",
              "      <td>3,133.40</td>\n",
              "      <td>3,134.46</td>\n",
              "      <td>3,095.72</td>\n",
              "    </tr>\n",
              "    <tr>\n",
              "      <th>2021-09-27</th>\n",
              "      <td>3,133.64</td>\n",
              "      <td>8.40</td>\n",
              "      <td>{'code': '2', 'text': '상승', 'name': 'RISING'}</td>\n",
              "      <td>0.27</td>\n",
              "      <td>3,121.70</td>\n",
              "      <td>3,146.35</td>\n",
              "      <td>3,119.26</td>\n",
              "    </tr>\n",
              "    <tr>\n",
              "      <th>2021-09-24</th>\n",
              "      <td>3,125.24</td>\n",
              "      <td>-2.34</td>\n",
              "      <td>{'code': '5', 'text': '하락', 'name': 'FALLING'}</td>\n",
              "      <td>-0.07</td>\n",
              "      <td>3,140.73</td>\n",
              "      <td>3,146.86</td>\n",
              "      <td>3,119.40</td>\n",
              "    </tr>\n",
              "  </tbody>\n",
              "</table>\n",
              "</div>"
            ],
            "text/plain": [
              "              closePrice compareToPreviousClosePrice  \\\n",
              "localTradedAt                                          \n",
              "2021-10-08      2,956.30                       -3.16   \n",
              "2021-10-07      2,959.46                       51.15   \n",
              "2021-10-06      2,908.31                      -53.86   \n",
              "2021-10-05      2,962.17                      -57.01   \n",
              "2021-10-01      3,019.18                      -49.64   \n",
              "2021-09-30      3,068.82                        8.55   \n",
              "2021-09-29      3,060.27                      -37.65   \n",
              "2021-09-28      3,097.92                      -35.72   \n",
              "2021-09-27      3,133.64                        8.40   \n",
              "2021-09-24      3,125.24                       -2.34   \n",
              "\n",
              "                                       compareToPreviousPrice  \\\n",
              "localTradedAt                                                   \n",
              "2021-10-08     {'code': '5', 'text': '하락', 'name': 'FALLING'}   \n",
              "2021-10-07      {'code': '2', 'text': '상승', 'name': 'RISING'}   \n",
              "2021-10-06     {'code': '5', 'text': '하락', 'name': 'FALLING'}   \n",
              "2021-10-05     {'code': '5', 'text': '하락', 'name': 'FALLING'}   \n",
              "2021-10-01     {'code': '5', 'text': '하락', 'name': 'FALLING'}   \n",
              "2021-09-30      {'code': '2', 'text': '상승', 'name': 'RISING'}   \n",
              "2021-09-29     {'code': '5', 'text': '하락', 'name': 'FALLING'}   \n",
              "2021-09-28     {'code': '5', 'text': '하락', 'name': 'FALLING'}   \n",
              "2021-09-27      {'code': '2', 'text': '상승', 'name': 'RISING'}   \n",
              "2021-09-24     {'code': '5', 'text': '하락', 'name': 'FALLING'}   \n",
              "\n",
              "              fluctuationsRatio openPrice highPrice  lowPrice  \n",
              "localTradedAt                                                  \n",
              "2021-10-08                -0.11  2,977.82  2,978.08  2,949.01  \n",
              "2021-10-07                 1.76  2,936.87  2,961.53  2,927.60  \n",
              "2021-10-06                -1.82  2,986.06  2,993.47  2,908.30  \n",
              "2021-10-05                -1.89  2,998.17  2,998.17  2,940.59  \n",
              "2021-10-01                -1.62  3,056.21  3,062.60  3,015.01  \n",
              "2021-09-30                 0.28  3,054.87  3,079.43  3,046.43  \n",
              "2021-09-29                -1.22  3,055.50  3,069.04  3,030.60  \n",
              "2021-09-28                -1.14  3,133.40  3,134.46  3,095.72  \n",
              "2021-09-27                 0.27  3,121.70  3,146.35  3,119.26  \n",
              "2021-09-24                -0.07  3,140.73  3,146.86  3,119.40  "
            ]
          },
          "execution_count": 18,
          "metadata": {},
          "output_type": "execute_result"
        }
      ]
    },
    {
      "cell_type": "code",
      "metadata": {
        "id": "d651b53c",
        "outputId": "ec417edd-d200-4ff7-f584-214bd5d1308f"
      },
      "source": [
        "print(krw_df['localTradedAt'].values)"
      ],
      "id": "d651b53c",
      "execution_count": null,
      "outputs": [
        {
          "name": "stdout",
          "output_type": "stream",
          "text": [
            "['2021-10-08' '2021-10-07' '2021-10-06' '2021-10-05' '2021-10-01'\n",
            " '2021-09-30' '2021-09-29' '2021-09-28' '2021-09-27' '2021-09-24']\n"
          ]
        }
      ]
    },
    {
      "cell_type": "code",
      "metadata": {
        "id": "c3b5d39d",
        "outputId": "4328c042-4036-421f-b1d0-44b4128546e6"
      },
      "source": [
        "print(kospii_df['localTradedAt'].values)"
      ],
      "id": "c3b5d39d",
      "execution_count": null,
      "outputs": [
        {
          "name": "stdout",
          "output_type": "stream",
          "text": [
            "['2021-10-08' '2021-10-07' '2021-10-06' '2021-10-05' '2021-10-01'\n",
            " '2021-09-30' '2021-09-29' '2021-09-28' '2021-09-27' '2021-09-24'\n",
            " '2021-09-23' '2021-09-17' '2021-09-16' '2021-09-15' '2021-09-14'\n",
            " '2021-09-13' '2021-09-10' '2021-09-09' '2021-09-08' '2021-09-07'\n",
            " '2021-09-06' '2021-09-03' '2021-09-02' '2021-09-01' '2021-08-31'\n",
            " '2021-08-30' '2021-08-27' '2021-08-26' '2021-08-25' '2021-08-24'\n",
            " '2021-08-23' '2021-08-20' '2021-08-19' '2021-08-18' '2021-08-17'\n",
            " '2021-08-13' '2021-08-12' '2021-08-11' '2021-08-10' '2021-08-09'\n",
            " '2021-08-06' '2021-08-05' '2021-08-04' '2021-08-03' '2021-08-02'\n",
            " '2021-07-30' '2021-07-29' '2021-07-28' '2021-07-27' '2021-07-26'\n",
            " '2021-07-23' '2021-07-22' '2021-07-21' '2021-07-20' '2021-07-19'\n",
            " '2021-07-16' '2021-07-15' '2021-07-14' '2021-07-13' '2021-07-12']\n"
          ]
        }
      ]
    },
    {
      "cell_type": "code",
      "metadata": {
        "id": "cac93289"
      },
      "source": [
        "def get_stock_usd(page_size=20 , page=1):\n",
        "    url =  'https://api.stock.naver.com/marketindex/exchange/FX_USDKRW/prices?page={}&pageSize={}'.format(page_size, page)\n",
        "    response = requests.get(url)\n",
        "    datas = response.json()\n",
        "    return pd.DataFrame(datas)\n",
        "\n"
      ],
      "id": "cac93289",
      "execution_count": null,
      "outputs": []
    },
    {
      "cell_type": "code",
      "metadata": {
        "id": "0dbf0803"
      },
      "source": [
        "usd_df = get_stock_usd(1, 100)"
      ],
      "id": "0dbf0803",
      "execution_count": null,
      "outputs": []
    },
    {
      "cell_type": "code",
      "metadata": {
        "id": "8ae56a68",
        "outputId": "f3726c52-0beb-4e91-cad1-af1c79b7b8a5"
      },
      "source": [
        "usd_df.tail(2)"
      ],
      "id": "8ae56a68",
      "execution_count": null,
      "outputs": [
        {
          "data": {
            "text/html": [
              "<div>\n",
              "<style scoped>\n",
              "    .dataframe tbody tr th:only-of-type {\n",
              "        vertical-align: middle;\n",
              "    }\n",
              "\n",
              "    .dataframe tbody tr th {\n",
              "        vertical-align: top;\n",
              "    }\n",
              "\n",
              "    .dataframe thead th {\n",
              "        text-align: right;\n",
              "    }\n",
              "</style>\n",
              "<table border=\"1\" class=\"dataframe\">\n",
              "  <thead>\n",
              "    <tr style=\"text-align: right;\">\n",
              "      <th></th>\n",
              "      <th>localTradedAt</th>\n",
              "      <th>closePrice</th>\n",
              "      <th>fluctuations</th>\n",
              "      <th>fluctuationsRatio</th>\n",
              "      <th>fluctuationsType</th>\n",
              "      <th>cashBuyValue</th>\n",
              "      <th>cashSellValue</th>\n",
              "      <th>sendValue</th>\n",
              "      <th>receiveValue</th>\n",
              "    </tr>\n",
              "  </thead>\n",
              "  <tbody>\n",
              "    <tr>\n",
              "      <th>98</th>\n",
              "      <td>2021-05-17</td>\n",
              "      <td>1,138.00</td>\n",
              "      <td>8.50</td>\n",
              "      <td>0.75</td>\n",
              "      <td>{'code': '2', 'text': '상승', 'name': 'RISING'}</td>\n",
              "      <td>1,157.91</td>\n",
              "      <td>1,118.09</td>\n",
              "      <td>1,149.10</td>\n",
              "      <td>1,126.90</td>\n",
              "    </tr>\n",
              "    <tr>\n",
              "      <th>99</th>\n",
              "      <td>2021-05-14</td>\n",
              "      <td>1,129.50</td>\n",
              "      <td>-4.00</td>\n",
              "      <td>-0.35</td>\n",
              "      <td>{'code': '5', 'text': '하락', 'name': 'FALLING'}</td>\n",
              "      <td>1,149.26</td>\n",
              "      <td>1,109.74</td>\n",
              "      <td>1,140.50</td>\n",
              "      <td>1,118.50</td>\n",
              "    </tr>\n",
              "  </tbody>\n",
              "</table>\n",
              "</div>"
            ],
            "text/plain": [
              "   localTradedAt closePrice fluctuations fluctuationsRatio  \\\n",
              "98    2021-05-17   1,138.00         8.50              0.75   \n",
              "99    2021-05-14   1,129.50        -4.00             -0.35   \n",
              "\n",
              "                                  fluctuationsType cashBuyValue cashSellValue  \\\n",
              "98   {'code': '2', 'text': '상승', 'name': 'RISING'}     1,157.91      1,118.09   \n",
              "99  {'code': '5', 'text': '하락', 'name': 'FALLING'}     1,149.26      1,109.74   \n",
              "\n",
              "   sendValue receiveValue  \n",
              "98  1,149.10     1,126.90  \n",
              "99  1,140.50     1,118.50  "
            ]
          },
          "execution_count": 23,
          "metadata": {},
          "output_type": "execute_result"
        }
      ]
    },
    {
      "cell_type": "code",
      "metadata": {
        "id": "6f45f3bb"
      },
      "source": [
        "#데이터합치기"
      ],
      "id": "6f45f3bb",
      "execution_count": null,
      "outputs": []
    },
    {
      "cell_type": "code",
      "metadata": {
        "id": "022bd6ca",
        "outputId": "ce0f04ef-3a12-47dd-fb32-1a91b620065d"
      },
      "source": [
        "merge_df_1 = pd.merge(kospi_df, kosdaq_df, left_on=\"dt\", right_on=\"dt\")\n",
        "merge_df_1 = merge_df_1.rename(columns={\"ncv_x\": \"ncv_kospi\", \"ncv_y\": \"ncv_kosdaq\"})\n",
        "merge_df_1 = merge_df_1[[\"dt\", \"ncv_kospi\", \"ncv_kosdaq\"]]\n",
        "\n",
        "\n",
        "merge_df_1.tail(2)\n",
        "\n"
      ],
      "id": "022bd6ca",
      "execution_count": null,
      "outputs": [
        {
          "ename": "KeyError",
          "evalue": "'dt'",
          "output_type": "error",
          "traceback": [
            "\u001b[0;31m---------------------------------------------------------------------------\u001b[0m",
            "\u001b[0;31mKeyError\u001b[0m                                  Traceback (most recent call last)",
            "\u001b[0;32m/var/folders/ml/hp2njsqd1_18f100zl35ktqc0000gn/T/ipykernel_10750/965483670.py\u001b[0m in \u001b[0;36m<module>\u001b[0;34m\u001b[0m\n\u001b[0;32m----> 1\u001b[0;31m \u001b[0mmerge_df_1\u001b[0m \u001b[0;34m=\u001b[0m \u001b[0mpd\u001b[0m\u001b[0;34m.\u001b[0m\u001b[0mmerge\u001b[0m\u001b[0;34m(\u001b[0m\u001b[0mkospi_df\u001b[0m\u001b[0;34m,\u001b[0m \u001b[0mkosdaq_df\u001b[0m\u001b[0;34m,\u001b[0m \u001b[0mleft_on\u001b[0m\u001b[0;34m=\u001b[0m\u001b[0;34m\"dt\"\u001b[0m\u001b[0;34m,\u001b[0m \u001b[0mright_on\u001b[0m\u001b[0;34m=\u001b[0m\u001b[0;34m\"dt\"\u001b[0m\u001b[0;34m)\u001b[0m\u001b[0;34m\u001b[0m\u001b[0;34m\u001b[0m\u001b[0m\n\u001b[0m\u001b[1;32m      2\u001b[0m \u001b[0mmerge_df_1\u001b[0m \u001b[0;34m=\u001b[0m \u001b[0mmerge_df_1\u001b[0m\u001b[0;34m.\u001b[0m\u001b[0mrename\u001b[0m\u001b[0;34m(\u001b[0m\u001b[0mcolumns\u001b[0m\u001b[0;34m=\u001b[0m\u001b[0;34m{\u001b[0m\u001b[0;34m\"ncv_x\"\u001b[0m\u001b[0;34m:\u001b[0m \u001b[0;34m\"ncv_kospi\"\u001b[0m\u001b[0;34m,\u001b[0m \u001b[0;34m\"ncv_y\"\u001b[0m\u001b[0;34m:\u001b[0m \u001b[0;34m\"ncv_kosdaq\"\u001b[0m\u001b[0;34m}\u001b[0m\u001b[0;34m)\u001b[0m\u001b[0;34m\u001b[0m\u001b[0;34m\u001b[0m\u001b[0m\n\u001b[1;32m      3\u001b[0m \u001b[0mmerge_df_1\u001b[0m \u001b[0;34m=\u001b[0m \u001b[0mmerge_df_1\u001b[0m\u001b[0;34m[\u001b[0m\u001b[0;34m[\u001b[0m\u001b[0;34m\"dt\"\u001b[0m\u001b[0;34m,\u001b[0m \u001b[0;34m\"ncv_kospi\"\u001b[0m\u001b[0;34m,\u001b[0m \u001b[0;34m\"ncv_kosdaq\"\u001b[0m\u001b[0;34m]\u001b[0m\u001b[0;34m]\u001b[0m\u001b[0;34m\u001b[0m\u001b[0;34m\u001b[0m\u001b[0m\n\u001b[1;32m      4\u001b[0m \u001b[0;34m\u001b[0m\u001b[0m\n\u001b[1;32m      5\u001b[0m \u001b[0;34m\u001b[0m\u001b[0m\n",
            "\u001b[0;32m/opt/homebrew/lib/python3.9/site-packages/pandas/core/reshape/merge.py\u001b[0m in \u001b[0;36mmerge\u001b[0;34m(left, right, how, on, left_on, right_on, left_index, right_index, sort, suffixes, copy, indicator, validate)\u001b[0m\n\u001b[1;32m    103\u001b[0m     \u001b[0mvalidate\u001b[0m\u001b[0;34m:\u001b[0m \u001b[0mstr\u001b[0m \u001b[0;34m|\u001b[0m \u001b[0;32mNone\u001b[0m \u001b[0;34m=\u001b[0m \u001b[0;32mNone\u001b[0m\u001b[0;34m,\u001b[0m\u001b[0;34m\u001b[0m\u001b[0;34m\u001b[0m\u001b[0m\n\u001b[1;32m    104\u001b[0m ) -> DataFrame:\n\u001b[0;32m--> 105\u001b[0;31m     op = _MergeOperation(\n\u001b[0m\u001b[1;32m    106\u001b[0m         \u001b[0mleft\u001b[0m\u001b[0;34m,\u001b[0m\u001b[0;34m\u001b[0m\u001b[0;34m\u001b[0m\u001b[0m\n\u001b[1;32m    107\u001b[0m         \u001b[0mright\u001b[0m\u001b[0;34m,\u001b[0m\u001b[0;34m\u001b[0m\u001b[0;34m\u001b[0m\u001b[0m\n",
            "\u001b[0;32m/opt/homebrew/lib/python3.9/site-packages/pandas/core/reshape/merge.py\u001b[0m in \u001b[0;36m__init__\u001b[0;34m(self, left, right, how, on, left_on, right_on, axis, left_index, right_index, sort, suffixes, copy, indicator, validate)\u001b[0m\n\u001b[1;32m    696\u001b[0m             \u001b[0mself\u001b[0m\u001b[0;34m.\u001b[0m\u001b[0mright_join_keys\u001b[0m\u001b[0;34m,\u001b[0m\u001b[0;34m\u001b[0m\u001b[0;34m\u001b[0m\u001b[0m\n\u001b[1;32m    697\u001b[0m             \u001b[0mself\u001b[0m\u001b[0;34m.\u001b[0m\u001b[0mjoin_names\u001b[0m\u001b[0;34m,\u001b[0m\u001b[0;34m\u001b[0m\u001b[0;34m\u001b[0m\u001b[0m\n\u001b[0;32m--> 698\u001b[0;31m         ) = self._get_merge_keys()\n\u001b[0m\u001b[1;32m    699\u001b[0m \u001b[0;34m\u001b[0m\u001b[0m\n\u001b[1;32m    700\u001b[0m         \u001b[0;31m# validate the merge keys dtypes. We may need to coerce\u001b[0m\u001b[0;34m\u001b[0m\u001b[0;34m\u001b[0m\u001b[0m\n",
            "\u001b[0;32m/opt/homebrew/lib/python3.9/site-packages/pandas/core/reshape/merge.py\u001b[0m in \u001b[0;36m_get_merge_keys\u001b[0;34m(self)\u001b[0m\n\u001b[1;32m   1093\u001b[0m                     \u001b[0;32mif\u001b[0m \u001b[0;32mnot\u001b[0m \u001b[0mis_rkey\u001b[0m\u001b[0;34m(\u001b[0m\u001b[0mrk\u001b[0m\u001b[0;34m)\u001b[0m\u001b[0;34m:\u001b[0m\u001b[0;34m\u001b[0m\u001b[0;34m\u001b[0m\u001b[0m\n\u001b[1;32m   1094\u001b[0m                         \u001b[0;32mif\u001b[0m \u001b[0mrk\u001b[0m \u001b[0;32mis\u001b[0m \u001b[0;32mnot\u001b[0m \u001b[0;32mNone\u001b[0m\u001b[0;34m:\u001b[0m\u001b[0;34m\u001b[0m\u001b[0;34m\u001b[0m\u001b[0m\n\u001b[0;32m-> 1095\u001b[0;31m                             \u001b[0mright_keys\u001b[0m\u001b[0;34m.\u001b[0m\u001b[0mappend\u001b[0m\u001b[0;34m(\u001b[0m\u001b[0mright\u001b[0m\u001b[0;34m.\u001b[0m\u001b[0m_get_label_or_level_values\u001b[0m\u001b[0;34m(\u001b[0m\u001b[0mrk\u001b[0m\u001b[0;34m)\u001b[0m\u001b[0;34m)\u001b[0m\u001b[0;34m\u001b[0m\u001b[0;34m\u001b[0m\u001b[0m\n\u001b[0m\u001b[1;32m   1096\u001b[0m                         \u001b[0;32melse\u001b[0m\u001b[0;34m:\u001b[0m\u001b[0;34m\u001b[0m\u001b[0;34m\u001b[0m\u001b[0m\n\u001b[1;32m   1097\u001b[0m                             \u001b[0;31m# work-around for merge_asof(right_index=True)\u001b[0m\u001b[0;34m\u001b[0m\u001b[0;34m\u001b[0m\u001b[0m\n",
            "\u001b[0;32m/opt/homebrew/lib/python3.9/site-packages/pandas/core/generic.py\u001b[0m in \u001b[0;36m_get_label_or_level_values\u001b[0;34m(self, key, axis)\u001b[0m\n\u001b[1;32m   1777\u001b[0m             \u001b[0mvalues\u001b[0m \u001b[0;34m=\u001b[0m \u001b[0mself\u001b[0m\u001b[0;34m.\u001b[0m\u001b[0maxes\u001b[0m\u001b[0;34m[\u001b[0m\u001b[0maxis\u001b[0m\u001b[0;34m]\u001b[0m\u001b[0;34m.\u001b[0m\u001b[0mget_level_values\u001b[0m\u001b[0;34m(\u001b[0m\u001b[0mkey\u001b[0m\u001b[0;34m)\u001b[0m\u001b[0;34m.\u001b[0m\u001b[0m_values\u001b[0m\u001b[0;34m\u001b[0m\u001b[0;34m\u001b[0m\u001b[0m\n\u001b[1;32m   1778\u001b[0m         \u001b[0;32melse\u001b[0m\u001b[0;34m:\u001b[0m\u001b[0;34m\u001b[0m\u001b[0;34m\u001b[0m\u001b[0m\n\u001b[0;32m-> 1779\u001b[0;31m             \u001b[0;32mraise\u001b[0m \u001b[0mKeyError\u001b[0m\u001b[0;34m(\u001b[0m\u001b[0mkey\u001b[0m\u001b[0;34m)\u001b[0m\u001b[0;34m\u001b[0m\u001b[0;34m\u001b[0m\u001b[0m\n\u001b[0m\u001b[1;32m   1780\u001b[0m \u001b[0;34m\u001b[0m\u001b[0m\n\u001b[1;32m   1781\u001b[0m         \u001b[0;31m# Check for duplicates\u001b[0m\u001b[0;34m\u001b[0m\u001b[0;34m\u001b[0m\u001b[0m\n",
            "\u001b[0;31mKeyError\u001b[0m: 'dt'"
          ]
        }
      ]
    },
    {
      "cell_type": "code",
      "metadata": {
        "id": "dcd72578",
        "outputId": "7bb42701-ab45-4637-a346-d0e9262247c1"
      },
      "source": [
        "pip install pyfolio"
      ],
      "id": "dcd72578",
      "execution_count": null,
      "outputs": [
        {
          "name": "stdout",
          "output_type": "stream",
          "text": [
            "\u001b[33mDEPRECATION: Configuring installation scheme with distutils config files is deprecated and will no longer work in the near future. If you are using a Homebrew or Linuxbrew Python, please see discussion at https://github.com/Homebrew/homebrew-core/issues/76621\u001b[0m\n",
            "Requirement already satisfied: pyfolio in /opt/homebrew/lib/python3.9/site-packages (0.9.2)\n",
            "Requirement already satisfied: pandas>=0.18.1 in /opt/homebrew/lib/python3.9/site-packages (from pyfolio) (1.3.3)\n",
            "Requirement already satisfied: numpy>=1.11.1 in /opt/homebrew/lib/python3.9/site-packages (from pyfolio) (1.21.2)\n",
            "Requirement already satisfied: pytz>=2014.10 in /opt/homebrew/lib/python3.9/site-packages (from pyfolio) (2021.1)\n",
            "Requirement already satisfied: seaborn>=0.7.1 in /opt/homebrew/lib/python3.9/site-packages (from pyfolio) (0.11.2)\n",
            "Requirement already satisfied: empyrical>=0.5.0 in /opt/homebrew/lib/python3.9/site-packages (from pyfolio) (0.5.5)\n",
            "Requirement already satisfied: matplotlib>=1.4.0 in /opt/homebrew/lib/python3.9/site-packages (from pyfolio) (3.4.3)\n",
            "Requirement already satisfied: scipy>=0.14.0 in /opt/homebrew/lib/python3.9/site-packages (from pyfolio) (1.7.1)\n",
            "Requirement already satisfied: ipython>=3.2.3 in /opt/homebrew/lib/python3.9/site-packages (from pyfolio) (7.27.0)\n",
            "Requirement already satisfied: scikit-learn>=0.16.1 in /opt/homebrew/lib/python3.9/site-packages (from pyfolio) (1.0)\n",
            "Requirement already satisfied: pandas-datareader>=0.2 in /opt/homebrew/lib/python3.9/site-packages (from empyrical>=0.5.0->pyfolio) (0.10.0)\n",
            "Requirement already satisfied: setuptools>=18.5 in /opt/homebrew/lib/python3.9/site-packages (from ipython>=3.2.3->pyfolio) (58.1.0)\n",
            "Requirement already satisfied: traitlets>=4.2 in /opt/homebrew/lib/python3.9/site-packages (from ipython>=3.2.3->pyfolio) (5.1.0)\n",
            "Requirement already satisfied: decorator in /opt/homebrew/lib/python3.9/site-packages (from ipython>=3.2.3->pyfolio) (5.1.0)\n",
            "Requirement already satisfied: matplotlib-inline in /opt/homebrew/lib/python3.9/site-packages (from ipython>=3.2.3->pyfolio) (0.1.3)\n",
            "Requirement already satisfied: appnope in /opt/homebrew/lib/python3.9/site-packages (from ipython>=3.2.3->pyfolio) (0.1.2)\n",
            "Requirement already satisfied: pickleshare in /opt/homebrew/lib/python3.9/site-packages (from ipython>=3.2.3->pyfolio) (0.7.5)\n",
            "Requirement already satisfied: prompt-toolkit!=3.0.0,!=3.0.1,<3.1.0,>=2.0.0 in /opt/homebrew/lib/python3.9/site-packages (from ipython>=3.2.3->pyfolio) (3.0.20)\n",
            "Requirement already satisfied: pygments in /opt/homebrew/lib/python3.9/site-packages (from ipython>=3.2.3->pyfolio) (2.10.0)\n",
            "Requirement already satisfied: backcall in /opt/homebrew/lib/python3.9/site-packages (from ipython>=3.2.3->pyfolio) (0.2.0)\n",
            "Requirement already satisfied: pexpect>4.3 in /opt/homebrew/lib/python3.9/site-packages (from ipython>=3.2.3->pyfolio) (4.8.0)\n",
            "Requirement already satisfied: jedi>=0.16 in /opt/homebrew/lib/python3.9/site-packages (from ipython>=3.2.3->pyfolio) (0.18.0)\n",
            "Requirement already satisfied: parso<0.9.0,>=0.8.0 in /opt/homebrew/lib/python3.9/site-packages (from jedi>=0.16->ipython>=3.2.3->pyfolio) (0.8.2)\n",
            "Requirement already satisfied: pyparsing>=2.2.1 in /opt/homebrew/lib/python3.9/site-packages (from matplotlib>=1.4.0->pyfolio) (2.4.7)\n",
            "Requirement already satisfied: cycler>=0.10 in /opt/homebrew/lib/python3.9/site-packages (from matplotlib>=1.4.0->pyfolio) (0.10.0)\n",
            "Requirement already satisfied: kiwisolver>=1.0.1 in /opt/homebrew/lib/python3.9/site-packages (from matplotlib>=1.4.0->pyfolio) (1.3.2)\n",
            "Requirement already satisfied: pillow>=6.2.0 in /opt/homebrew/lib/python3.9/site-packages (from matplotlib>=1.4.0->pyfolio) (8.3.2)\n",
            "Requirement already satisfied: python-dateutil>=2.7 in /opt/homebrew/lib/python3.9/site-packages (from matplotlib>=1.4.0->pyfolio) (2.8.2)\n",
            "Requirement already satisfied: six in /opt/homebrew/lib/python3.9/site-packages (from cycler>=0.10->matplotlib>=1.4.0->pyfolio) (1.16.0)\n",
            "Requirement already satisfied: requests>=2.19.0 in /opt/homebrew/lib/python3.9/site-packages (from pandas-datareader>=0.2->empyrical>=0.5.0->pyfolio) (2.26.0)\n",
            "Requirement already satisfied: lxml in /opt/homebrew/lib/python3.9/site-packages (from pandas-datareader>=0.2->empyrical>=0.5.0->pyfolio) (4.6.3)\n",
            "Requirement already satisfied: ptyprocess>=0.5 in /opt/homebrew/lib/python3.9/site-packages (from pexpect>4.3->ipython>=3.2.3->pyfolio) (0.7.0)\n",
            "Requirement already satisfied: wcwidth in /opt/homebrew/lib/python3.9/site-packages (from prompt-toolkit!=3.0.0,!=3.0.1,<3.1.0,>=2.0.0->ipython>=3.2.3->pyfolio) (0.2.5)\n",
            "Requirement already satisfied: certifi>=2017.4.17 in /opt/homebrew/lib/python3.9/site-packages (from requests>=2.19.0->pandas-datareader>=0.2->empyrical>=0.5.0->pyfolio) (2021.5.30)\n",
            "Requirement already satisfied: urllib3<1.27,>=1.21.1 in /opt/homebrew/lib/python3.9/site-packages (from requests>=2.19.0->pandas-datareader>=0.2->empyrical>=0.5.0->pyfolio) (1.26.6)\n",
            "Requirement already satisfied: charset-normalizer~=2.0.0 in /opt/homebrew/lib/python3.9/site-packages (from requests>=2.19.0->pandas-datareader>=0.2->empyrical>=0.5.0->pyfolio) (2.0.6)\n",
            "Requirement already satisfied: idna<4,>=2.5 in /opt/homebrew/lib/python3.9/site-packages (from requests>=2.19.0->pandas-datareader>=0.2->empyrical>=0.5.0->pyfolio) (3.2)\n",
            "Requirement already satisfied: joblib>=0.11 in /opt/homebrew/lib/python3.9/site-packages (from scikit-learn>=0.16.1->pyfolio) (1.0.1)\n",
            "Requirement already satisfied: threadpoolctl>=2.0.0 in /opt/homebrew/lib/python3.9/site-packages (from scikit-learn>=0.16.1->pyfolio) (3.0.0)\n",
            "Note: you may need to restart the kernel to use updated packages.\n"
          ]
        }
      ]
    },
    {
      "cell_type": "code",
      "metadata": {
        "id": "4e14765d"
      },
      "source": [
        ""
      ],
      "id": "4e14765d",
      "execution_count": null,
      "outputs": []
    }
  ]
}